{
  "nbformat": 4,
  "nbformat_minor": 0,
  "metadata": {
    "colab": {
      "provenance": [],
      "collapsed_sections": [],
      "include_colab_link": true
    },
    "kernelspec": {
      "name": "python3",
      "display_name": "Python 3"
    },
    "language_info": {
      "name": "python"
    }
  },
  "cells": [
    {
      "cell_type": "markdown",
      "metadata": {
        "id": "view-in-github",
        "colab_type": "text"
      },
      "source": [
        "<a href=\"https://colab.research.google.com/github/sohailahazem/facial_recognition/blob/main/Assignment1.ipynb\" target=\"_parent\"><img src=\"https://colab.research.google.com/assets/colab-badge.svg\" alt=\"Open In Colab\"/></a>"
      ]
    },
    {
      "cell_type": "code",
      "execution_count": null,
      "metadata": {
        "id": "GkJXreKFeh8u"
      },
      "outputs": [],
      "source": [
        "from google.colab import drive\n",
        "import numpy as np\n",
        "import pandas as pd\n",
        "from PIL import Image\n",
        "from sklearn.neighbors import KNeighborsClassifier\n",
        "from sklearn.metrics import accuracy_score\n",
        "import matplotlib.pyplot as plt"
      ]
    },
    {
      "cell_type": "markdown",
      "source": [
        "## Import Data"
      ],
      "metadata": {
        "id": "NXKvr4cKrBPl"
      }
    },
    {
      "cell_type": "code",
      "source": [
        "# drive.mount('/content/drive')\n",
        "drive.mount('/gdrive')\n",
        "!ln -s \"/gdrive/My Drive/faces_dataset\" \"/content/faces_dataset\"\n",
        "faces_path = '/content/drive/MyDrive/faces_dataset'"
      ],
      "metadata": {
        "id": "M2u1BCNTrDDF",
        "colab": {
          "base_uri": "https://localhost:8080/"
        },
        "outputId": "5624fd57-8f14-4020-d487-ade066a01230"
      },
      "execution_count": null,
      "outputs": [
        {
          "output_type": "stream",
          "name": "stdout",
          "text": [
            "Mounted at /gdrive\n"
          ]
        }
      ]
    },
    {
      "cell_type": "code",
      "source": [
        "datamatrix=[]\n",
        "for i in range(1,41):\n",
        "  for j in range(1,11):\n",
        "    image = Image.open(f\"{faces_path}/s{i}/{j}.pgm\")\n",
        "    matrix = np.asarray(image).flatten()\n",
        "    datamatrix.append(matrix)\n",
        "datamatrix = np.array(datamatrix)    \n",
        "\n"
      ],
      "metadata": {
        "id": "RMltMWG8uKpZ"
      },
      "execution_count": null,
      "outputs": []
    },
    {
      "cell_type": "markdown",
      "source": [
        "## Labels vector coresponding to subject"
      ],
      "metadata": {
        "id": "ZR523T68CEgn"
      }
    },
    {
      "cell_type": "code",
      "source": [
        "labels=[]\n",
        "for i in range(1,41):\n",
        "  for j in range(1,11):\n",
        "    labels.append(i)\n",
        "# print(labels)\n",
        "row, col = datamatrix.shape\n",
        "#labels =np.array([labels]).T #idek if this is right but i did 3ashan kol row fel data matrix yeb2a labeled? "
      ],
      "metadata": {
        "id": "CnWmr2Id1937"
      },
      "execution_count": null,
      "outputs": []
    },
    {
      "cell_type": "markdown",
      "source": [
        "## Split Dataset into training and test sets: (odd rows for training and even for tests) "
      ],
      "metadata": {
        "id": "r4XujB3vCOb-"
      }
    },
    {
      "cell_type": "code",
      "source": [
        "train_data =[]\n",
        "test_data =[]\n",
        "train_labels=[]\n",
        "test_labels = []\n",
        "\n",
        "for i in range(0,row):\n",
        "  if i %2 == 0:\n",
        "    test_data.append((datamatrix[i]))\n",
        "    test_labels.append((labels[i]))\n",
        "  else: \n",
        "    train_data.append((datamatrix[i]))\n",
        "    train_labels.append((labels[i]))\n",
        "\n",
        "train_data =np.array(train_data)\n",
        "test_data =np.array(test_data)\n",
        "train_labels=np.array(train_labels)\n",
        "test_labels =np.array(test_labels)\n",
        "# print(test_data)\n",
        "# print(test_data)\n",
        "ro, col = test_data.shape\n",
        "print(col)"
      ],
      "metadata": {
        "id": "FT3E-tBC2Z-W",
        "colab": {
          "base_uri": "https://localhost:8080/"
        },
        "outputId": "9ca6b0fb-3ea0-4671-c917-4d02802ab678"
      },
      "execution_count": null,
      "outputs": [
        {
          "output_type": "stream",
          "name": "stdout",
          "text": [
            "10304\n"
          ]
        }
      ]
    },
    {
      "cell_type": "markdown",
      "source": [
        "## Computing PCA:"
      ],
      "metadata": {
        "id": "vydpnNTYMZ63"
      }
    },
    {
      "cell_type": "markdown",
      "source": [
        "### mean, covariance "
      ],
      "metadata": {
        "id": "AMO4ivplNsrL"
      }
    },
    {
      "cell_type": "code",
      "source": [
        "Mean=np.mean(train_data,axis=0)\n",
        "centered_D= train_data-Mean \n",
        "covariance = np.cov(centered_D,rowvar=False, bias = True)\n",
        "eigen_values,eigen_vectors = np.linalg.eigh(covariance)\n",
        "print(eigen_values)\n",
        "print(eigen_vectors)"
      ],
      "metadata": {
        "colab": {
          "base_uri": "https://localhost:8080/"
        },
        "id": "pmSAS_LUMc3E",
        "outputId": "ccd10d62-8763-4112-e207-4c9d78e8816f"
      },
      "execution_count": null,
      "outputs": [
        {
          "output_type": "stream",
          "name": "stdout",
          "text": [
            "[-1.80602641e-09 -1.25477121e-09 -9.60870365e-10 ...  1.06569341e+06\n",
            "  2.14179597e+06  2.76884465e+06]\n",
            "[[ 0.          0.          0.         ... -0.01891079 -0.01536171\n",
            "   0.00124556]\n",
            " [ 0.47921373 -0.16848932 -0.10885945 ... -0.01911777 -0.01513146\n",
            "   0.00126454]\n",
            " [-0.45822015 -0.23577699 -0.06253177 ... -0.01903942 -0.01516195\n",
            "   0.00156465]\n",
            " ...\n",
            " [-0.00100661  0.00872914  0.03050388 ... -0.01287451  0.00961112\n",
            "   0.00873725]\n",
            " [ 0.01404303  0.01066199 -0.0072786  ... -0.01377318  0.0077597\n",
            "   0.00721705]\n",
            " [-0.00344785 -0.02715983  0.01509779 ... -0.01438815  0.00692708\n",
            "   0.0084008 ]]\n"
          ]
        }
      ]
    },
    {
      "cell_type": "code",
      "source": [
        "# print (np.dot(np.dot(eigen_vectors,np.diag(eigen_values)),np.transpose(eigen_vectors)))\n",
        "# print(covariance)\n",
        "# print(\"\\n eigen value  matrix\\n\", eigen_values.shape)\n",
        "# print(\"\\n eigen vectors  matrix\\n\", eigen_vectors.shape)"
      ],
      "metadata": {
        "id": "1vSWD9vOTfZD"
      },
      "execution_count": null,
      "outputs": []
    },
    {
      "cell_type": "markdown",
      "source": [
        "### Fraction of the total variance function"
      ],
      "metadata": {
        "id": "DgZiY9iCnOoX"
      }
    },
    {
      "cell_type": "code",
      "source": [
        "sorted_index = np.argsort(eigen_values)[::-1]\n",
        "sorted_eigenvalue = eigen_values[sorted_index]\n",
        "sorted_eigenvectors = eigen_vectors[:,sorted_index]\n",
        "alphas = [0.8, 0.85, 0.9, 0.95]\n",
        "def f(eigen_values):\n",
        "  chosen_r = [0, 0, 0, 0]\n",
        "  chosen_eigen_sum = 0\n",
        "  index = 0\n",
        "  r = 0\n",
        "  eigen_sum = sorted_eigenvalue.sum()\n",
        "  for x in sorted_eigenvalue:\n",
        "        chosen_eigen_sum += x\n",
        "        if chosen_eigen_sum / eigen_sum >= alphas[index]:\n",
        "          chosen_r[index] += r\n",
        "          index+=1\n",
        "          if index == 4:\n",
        "            break\n",
        "        r+=1 \n",
        "  return chosen_r\n",
        "chosen_r = f(sorted_eigenvalue)\n",
        "print(chosen_r)"
      ],
      "metadata": {
        "colab": {
          "base_uri": "https://localhost:8080/"
        },
        "id": "C9LWGfVXnSSg",
        "outputId": "6b5b0226-8e30-4ec0-a21e-51fd819f0c66"
      },
      "execution_count": null,
      "outputs": [
        {
          "output_type": "stream",
          "name": "stdout",
          "text": [
            "[36, 52, 76, 115]\n"
          ]
        }
      ]
    },
    {
      "cell_type": "markdown",
      "source": [
        "### Projection Matrix and projecting the test and training data\n"
      ],
      "metadata": {
        "id": "GF_mzQXCuP40"
      }
    },
    {
      "cell_type": "code",
      "source": [
        "# for i in range(0,4):\n",
        "#   P=sorted_eigenvectors[:chosen_r[i]]\n",
        "# print(P)\n",
        "# P = P[::-1] ## msh 3arfa a sort aka reverse wala la2 ?? \n",
        "# print(P)\n",
        "# A_train = np.dot(train_data, np.transpose(P))\n",
        "# A_test = np.dot(test_data, np.transpose(P))\n"
      ],
      "metadata": {
        "colab": {
          "base_uri": "https://localhost:8080/"
        },
        "id": "u0gXkoX0uPqL",
        "outputId": "edb2e98a-a482-4baf-a370-a7560e1d05c0"
      },
      "execution_count": null,
      "outputs": [
        {
          "output_type": "stream",
          "name": "stdout",
          "text": [
            "[[ 0.00124556 -0.01536171 -0.01891079 ...  0.          0.\n",
            "   0.        ]\n",
            " [ 0.00126454 -0.01513146 -0.01911777 ... -0.10885945 -0.16848932\n",
            "   0.47921373]\n",
            " [ 0.00156465 -0.01516195 -0.01903942 ... -0.06253177 -0.23577699\n",
            "  -0.45822015]\n",
            " ...\n",
            " [-0.00668345 -0.01327393 -0.0186983  ... -0.00179215 -0.00126579\n",
            "  -0.00566763]\n",
            " [-0.007396   -0.01330963 -0.01926375 ... -0.00092875  0.00820206\n",
            "  -0.00437651]\n",
            " [-0.00829428 -0.01247457 -0.01861699 ... -0.00163733 -0.00659515\n",
            "   0.00066764]]\n",
            "[[-0.00829428 -0.01247457 -0.01861699 ... -0.00163733 -0.00659515\n",
            "   0.00066764]\n",
            " [-0.007396   -0.01330963 -0.01926375 ... -0.00092875  0.00820206\n",
            "  -0.00437651]\n",
            " [-0.00668345 -0.01327393 -0.0186983  ... -0.00179215 -0.00126579\n",
            "  -0.00566763]\n",
            " ...\n",
            " [ 0.00156465 -0.01516195 -0.01903942 ... -0.06253177 -0.23577699\n",
            "  -0.45822015]\n",
            " [ 0.00126454 -0.01513146 -0.01911777 ... -0.10885945 -0.16848932\n",
            "   0.47921373]\n",
            " [ 0.00124556 -0.01536171 -0.01891079 ...  0.          0.\n",
            "   0.        ]]\n"
          ]
        }
      ]
    },
    {
      "cell_type": "markdown",
      "source": [
        "### KNN"
      ],
      "metadata": {
        "id": "_m6QcLueqSvj"
      }
    },
    {
      "cell_type": "code",
      "source": [
        "def KNN(X_train,X_test,y_train,y_test,k):\n",
        "  knn = KNeighborsClassifier(n_neighbors=k)\n",
        "  knn.fit(X_train, y_train)\n",
        "  labels_pred = knn.predict(X_test)\n",
        "  accuracy = accuracy_score(y_test,labels_pred)\n",
        "  return accuracy \n"
      ],
      "metadata": {
        "id": "zeTnzmZMqVi1"
      },
      "execution_count": null,
      "outputs": []
    },
    {
      "cell_type": "markdown",
      "source": [
        "### Accuracy for every value of alpha"
      ],
      "metadata": {
        "id": "oHAAirRWzA6C"
      }
    },
    {
      "cell_type": "code",
      "source": [
        "k_neighbors = [1,3,5,7] # chose 4 bc alphas are 4? im not sure and odd because i read they give better accuracies ? \n",
        "for i in range(0,4):\n",
        "  P=sorted_eigenvectors[:chosen_r[i]]\n",
        "  P = P[::-1]\n",
        "  A_train = np.dot(train_data, np.transpose(P))\n",
        "  A_test = np.dot(test_data, np.transpose(P))\n",
        "  accuracies =[]\n",
        "  for k in k_neighbors: \n",
        "    accuracy = KNN(A_train,A_test,train_labels,test_labels,k)\n",
        "    accuracies.append(accuracy)\n",
        "    print(f\"Accuracy of alpha = {alphas[i]} with k = {k} is {accuracy}\")  \n",
        "  plt.title(f'r={chosen_r[i]}')\n",
        "  plt.xlabel('K')\n",
        "  plt.ylabel('Accuracy ')\n",
        "  plt.plot(k_neighbors,accuracies)\n",
        "  plt.show()\n",
        "\n",
        "\n"
      ],
      "metadata": {
        "colab": {
          "base_uri": "https://localhost:8080/",
          "height": 1000
        },
        "id": "-OwGbqNezJND",
        "outputId": "6ade4a71-ad8c-4a05-d374-9b75a05a2a2e"
      },
      "execution_count": null,
      "outputs": [
        {
          "output_type": "stream",
          "name": "stdout",
          "text": [
            "Accuracy of alpha = 0.8 with k = 1 is 0.725\n",
            "Accuracy of alpha = 0.8 with k = 3 is 0.655\n",
            "Accuracy of alpha = 0.8 with k = 5 is 0.62\n",
            "Accuracy of alpha = 0.8 with k = 7 is 0.575\n"
          ]
        },
        {
          "output_type": "display_data",
          "data": {
            "text/plain": [
              "<Figure size 432x288 with 1 Axes>"
            ],
            "image/png": "[encoded data removed]"
          },
          "metadata": {
            "needs_background": "light"
          }
        },
        {
          "output_type": "stream",
          "name": "stdout",
          "text": [
            "Accuracy of alpha = 0.85 with k = 1 is 0.815\n",
            "Accuracy of alpha = 0.85 with k = 3 is 0.72\n",
            "Accuracy of alpha = 0.85 with k = 5 is 0.675\n",
            "Accuracy of alpha = 0.85 with k = 7 is 0.64\n"
          ]
        },
        {
          "output_type": "display_data",
          "data": {
            "text/plain": [
              "<Figure size 432x288 with 1 Axes>"
            ],
            "image/png": "[encoded data removed]"
          },
          "metadata": {
            "needs_background": "light"
          }
        },
        {
          "output_type": "stream",
          "name": "stdout",
          "text": [
            "Accuracy of alpha = 0.9 with k = 1 is 0.865\n",
            "Accuracy of alpha = 0.9 with k = 3 is 0.77\n",
            "Accuracy of alpha = 0.9 with k = 5 is 0.715\n",
            "Accuracy of alpha = 0.9 with k = 7 is 0.725\n"
          ]
        },
        {
          "output_type": "display_data",
          "data": {
            "text/plain": [
              "<Figure size 432x288 with 1 Axes>"
            ],
            "image/png": "[encoded data removed]"
          },
          "metadata": {
            "needs_background": "light"
          }
        },
        {
          "output_type": "stream",
          "name": "stdout",
          "text": [
            "Accuracy of alpha = 0.95 with k = 1 is 0.91\n",
            "Accuracy of alpha = 0.95 with k = 3 is 0.82\n",
            "Accuracy of alpha = 0.95 with k = 5 is 0.775\n",
            "Accuracy of alpha = 0.95 with k = 7 is 0.74\n"
          ]
        },
        {
          "output_type": "display_data",
          "data": {
            "text/plain": [
              "<Figure size 432x288 with 1 Axes>"
            ],
            "image/png": "[encoded data removed]"
          },
          "metadata": {
            "needs_background": "light"
          }
        }
      ]
    }
  ]
}