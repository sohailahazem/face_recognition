{
  "cells": [
    {
      "cell_type": "code",
      "execution_count": 30,
      "metadata": {
        "id": "GkJXreKFeh8u"
      },
      "outputs": [],
      "source": [
        "from google.colab import drive\n",
        "import numpy as np\n",
        "import pandas as pd\n",
        "from PIL import Image\n",
        "from sklearn.neighbors import KNeighborsClassifier\n",
        "from sklearn.metrics import accuracy_score\n",
        "import matplotlib.pyplot as plt\n",
        "import os\n",
        "import glob"
      ]
    },
    {
      "cell_type": "markdown",
      "metadata": {
        "id": "NXKvr4cKrBPl"
      },
      "source": [
        "1. Import Data"
      ]
    },
    {
      "cell_type": "code",
      "execution_count": 2,
      "metadata": {
        "colab": {
          "base_uri": "https://localhost:8080/"
        },
        "id": "M2u1BCNTrDDF",
        "outputId": "3111dcb4-2a75-4145-fb71-2eb12e796fc9"
      },
      "outputs": [
        {
          "output_type": "stream",
          "name": "stdout",
          "text": [
            "Drive already mounted at /gdrive; to attempt to forcibly remount, call drive.mount(\"/gdrive\", force_remount=True).\n",
            "ln: failed to create symbolic link '/content/faces_dataset/faces_dataset': File exists\n"
          ]
        }
      ],
      "source": [
        "# drive.mount('/content/drive')\n",
        "drive.mount('/gdrive')\n",
        "!ln -s \"/gdrive/My Drive/faces_dataset\" \"/content/faces_dataset\"\n",
        "faces_path = '/content/faces_dataset'"
      ]
    },
    {
      "cell_type": "markdown",
      "metadata": {
        "id": "LKpqdgNnxlDU"
      },
      "source": [
        "\n",
        "\n",
        "---\n",
        "\n",
        "\n",
        "\n",
        "---\n",
        "\n"
      ]
    },
    {
      "cell_type": "markdown",
      "metadata": {
        "id": "lzHVG5aCwssz"
      },
      "source": [
        "2. Generating the Data Matrix as D and the Label as 'labels'."
      ]
    },
    {
      "cell_type": "code",
      "execution_count": 58,
      "metadata": {
        "colab": {
          "base_uri": "https://localhost:8080/"
        },
        "id": "RMltMWG8uKpZ",
        "outputId": "c36fa98f-2a66-4b2e-c21a-a6c178f29d04"
      },
      "outputs": [
        {
          "output_type": "stream",
          "name": "stdout",
          "text": [
            "400\n",
            "10304\n",
            "400\n"
          ]
        }
      ],
      "source": [
        "D = []\n",
        "y = []         \n",
        "for i in range(1,41):\n",
        "  for j in range(1,11):\n",
        "    image = Image.open(f\"{faces_path}/s{i}/{j}.pgm\")\n",
        "    arr = np.asarray(image).flatten()    # flatten a matrix to one dimension\n",
        "    D.append(arr)\n",
        "    y.append(i)\n",
        "\n",
        "print(len(D))\n",
        "print(len(D[0]))    \n",
        "print(len(y))\n",
        "\n",
        "D = np.array(D)  \n",
        "#labels =np.array([labels]).T #idek if this is right but i did 3ashan kol row fel data matrix yeb2a labeled?   \n",
        "row1, col1 = D.shape\n"
      ]
    },
    {
      "cell_type": "markdown",
      "metadata": {
        "id": "f6_AHjcKz0LF"
      },
      "source": [
        "\n",
        "\n",
        "---\n",
        "\n"
      ]
    },
    {
      "cell_type": "markdown",
      "metadata": {
        "id": "xN9CZ24az8C9"
      },
      "source": [
        "\n",
        "3. Splitting the Dataset into Training and Test sets.\n"
      ]
    },
    {
      "cell_type": "code",
      "execution_count": 59,
      "metadata": {
        "id": "FT3E-tBC2Z-W"
      },
      "outputs": [],
      "source": [
        "## split dataset into training and test sets: (odd rows for training and even for tests) \n",
        "D_train = []\n",
        "D_test = []\n",
        "y_train = []\n",
        "y_test = []\n",
        "\n",
        "for i in range(0, 400):\n",
        "  if i % 2 == 0:\n",
        "    D_test.append((D[i]))                  #select even rows for testing\n",
        "    y_test.append((y[i]))\n",
        "  else: \n",
        "    D_train.append((D[i]))                 #select odd rows for traning\n",
        "    y_train.append((y[i]))\n",
        "\n",
        "D_train = np.array(D_train)\n",
        "D_test = np.array(D_test)\n",
        "y_train = np.array(y_train)\n",
        "y_test = np.array(y_test)\n",
        "\n",
        "row2, col2 = D_test.shape\n"
      ]
    },
    {
      "cell_type": "markdown",
      "metadata": {
        "id": "1KC1ctid2oSk"
      },
      "source": [
        "\n",
        "\n",
        "---\n"
      ]
    },
    {
      "cell_type": "markdown",
      "metadata": {
        "id": "QD_9g-UHAxnN"
      },
      "source": [
        "4. Classification using PCA. "
      ]
    },
    {
      "cell_type": "code",
      "execution_count": 60,
      "metadata": {
        "id": "P1C1ucDX2v3p"
      },
      "outputs": [],
      "source": [
        "#fraction of total variance\n",
        "def f(eigen_values, alpha_v):\n",
        "  chosen_r = [0, 0, 0, 0]\n",
        "  chosen_eigen_sum = 0\n",
        "  index = 0\n",
        "  r = 0\n",
        "  eigen_sum = eigen_values.sum()\n",
        "\n",
        "  #choose smallest r so that f(r) >= alpha (choose dimensionality)\n",
        "  for x in eigen_values:\n",
        "        chosen_eigen_sum += x\n",
        "        if chosen_eigen_sum / eigen_sum >= alpha_v[index]:\n",
        "          chosen_r[index] = r\n",
        "          index += 1\n",
        "          if index == 4:\n",
        "            break\n",
        "        r += 1  \n",
        "  return chosen_r"
      ]
    },
    {
      "cell_type": "markdown",
      "metadata": {
        "id": "USrvkxxhz2Bm"
      },
      "source": [
        "\n",
        "\n",
        "---\n",
        "\n"
      ]
    },
    {
      "cell_type": "code",
      "execution_count": 61,
      "metadata": {
        "id": "zeTnzmZMqVi1"
      },
      "outputs": [],
      "source": [
        "def KNN(X_train,X_test,label_train,label_test,k):\n",
        "  knn = KNeighborsClassifier(n_neighbors=k)\n",
        "  knn.fit(X_train, label_train)\n",
        "  label_prediction = knn.predict(X_test)\n",
        "  accuracy = accuracy_score(label_test, label_prediction)\n",
        "  return accuracy \n"
      ]
    },
    {
      "cell_type": "markdown",
      "metadata": {
        "id": "6RIcpUopz3Dv"
      },
      "source": [
        "\n",
        "\n",
        "---\n",
        "\n",
        "\n"
      ]
    },
    {
      "cell_type": "code",
      "execution_count": 50,
      "metadata": {
        "colab": {
          "base_uri": "https://localhost:8080/"
        },
        "id": "4ZuZBbUuEpTe",
        "outputId": "5f5fb49e-ac11-43b6-d3de-23b036f826e2"
      },
      "outputs": [
        {
          "output_type": "stream",
          "name": "stdout",
          "text": [
            "[[1281.8676   1270.9456   1265.725    ... -159.3766   -147.8976\n",
            "   -92.5462  ]\n",
            " [1270.9456   1276.8836   1267.7925   ... -149.2821   -138.4931\n",
            "   -88.5347  ]\n",
            " [1265.725    1267.7925   1274.934375 ... -149.611875 -135.325625\n",
            "   -80.359375]\n",
            " ...\n",
            " [-159.3766   -149.2821   -149.611875 ... 2300.254975 2030.739725\n",
            "  1937.531075]\n",
            " [-147.8976   -138.4931   -135.325625 ... 2030.739725 2036.261975\n",
            "  1956.266825]\n",
            " [ -92.5462    -88.5347    -80.359375 ... 1937.531075 1956.266825\n",
            "  2069.108775]]\n",
            "=====\n",
            "[-1.63839602e-09 -1.37642764e-09 -1.09040759e-09 ...  1.11881113e+06\n",
            "  2.06186490e+06  2.81616780e+06]\n",
            "=====\n",
            "[[ 0.          0.          0.         ... -0.02033095 -0.01436512\n",
            "   0.00363147]\n",
            " [ 0.5437214   0.09500746  0.20157747 ... -0.02065706 -0.01407533\n",
            "   0.00357945]\n",
            " [-0.25963379  0.52392162  0.02600759 ... -0.02032766 -0.01422695\n",
            "   0.00382253]\n",
            " ...\n",
            " [-0.00417321  0.01466746  0.02276943 ... -0.0121982   0.01295895\n",
            "   0.00736911]\n",
            " [ 0.00978485  0.00060911 -0.01286312 ... -0.01179208  0.01241583\n",
            "   0.00672089]\n",
            " [ 0.01868006 -0.01201236 -0.03294153 ... -0.01250219  0.01184978\n",
            "   0.00756236]]\n"
          ]
        }
      ],
      "source": [
        " #temporarily here\n",
        "mean_vector = np.mean(D_train, axis = 0)       # compute the mean\n",
        "Z = D_train - mean_vector                      # centering the data\n",
        "COV = np.cov(Z, rowvar = False, bias = True)   # get the covariance matrix\n",
        "eigen_values, eigen_vectors = np.linalg.eigh(COV)\n",
        "print(COV)\n",
        "print(\"=====\")\n",
        "print(eigen_values)\n",
        "print(\"=====\")\n",
        "print(eigen_vectors)"
      ]
    },
    {
      "cell_type": "code",
      "execution_count": 51,
      "metadata": {
        "id": "7-qZXmTA2EBM"
      },
      "outputs": [],
      "source": [
        "def PCA(X_train, yl_train, X_test, yl_test):\n",
        "\n",
        "  sorted_eigenvectors = eigen_vectors.T[::-1]\n",
        "  sorted_eigenvalues = eigen_values.T[::-1]\n",
        "\n",
        "  alphas = [0.8, 0.85, 0.9, 0.95]  # alpha_vector  \n",
        "\n",
        "  r = f(sorted_eigenvalues, alphas)  # choose dimensionality\n",
        "  print(f\"Number of features after reduction for each alpha: {r}\\n\")\n",
        "  \n",
        "  # reporting accuracy for every value of alpha seperately using KNN\n",
        "  k_neighbors = [1,3,5,7] # choosing K values with an odd number to avoid a tie\n",
        "  max_accuracies = [] \n",
        "\n",
        "  for i in range(0,4):\n",
        "    P = sorted_eigenvectors[0:r[i]]\n",
        "    P = P[::-1]\n",
        "    A_train = np.dot(X_train, np.transpose(P))    # projecting the training data onto the new P\n",
        "    A_test = np.dot(X_test, np.transpose(P))      # projecting the testing data onto the new P\n",
        "    accuracies = []\n",
        "    \n",
        "    print(f\"\\n {i + 1}) α = {alphas[i]}\\n\")\n",
        "\n",
        "    for k in k_neighbors: \n",
        "      accuracy = KNN(A_train,A_test,yl_train,yl_test,k)\n",
        "      accuracies.append(accuracy)\n",
        "      print(f\"for k = {k}, the accuracy is {accuracy * 100} %\")  \n",
        "\n",
        "    max_accuracies.append(max(accuracies))\n",
        "    \n",
        "    plt.title(f'r = {r[i]}')\n",
        "    plt.xlabel('K')\n",
        "    plt.ylabel('Accuracy ')\n",
        "    plt.plot(k_neighbors,accuracies)\n",
        "    plt.show()\n",
        "\n",
        "    print(f\"\\nMax Accuracy for α = {alphas[i]} is {max_accuracies[i] * 100} %\")\n",
        "    print(\"---------------------------------------------------------------------\")\n",
        "  # relation between alpha and classification accuracy\n",
        "  plt.figure(figsize = (7,7))\n",
        "  plt.plot(alphas, max_accuracies)\n",
        "  plt.title(\"Relation between α and classification accuracy\")\n",
        "  plt.xlabel('α')\n",
        "  plt.ylabel('Accuracy')\n",
        "  print(\"\\nHighest Accuracy (94.5%) was at α = 0.9  and  k = 1.\\n\")\n"
      ]
    },
    {
      "cell_type": "markdown",
      "metadata": {
        "id": "QPrOk76o_-Ph"
      },
      "source": [
        "\n",
        "\n",
        "---"
      ]
    },
    {
      "cell_type": "code",
      "execution_count": 52,
      "metadata": {
        "colab": {
          "base_uri": "https://localhost:8080/",
          "height": 1000
        },
        "id": "G-t8uyIjAAEj",
        "outputId": "be11a571-e35f-4d8c-ac9b-4ae791e5e199"
      },
      "outputs": [
        {
          "output_type": "stream",
          "name": "stdout",
          "text": [
            "Number of features after reduction for each alpha: [35, 51, 75, 114]\n",
            "\n",
            "\n",
            " 1) α = 0.8\n",
            "\n",
            "for k = 1, the accuracy is 90.0 %\n",
            "for k = 3, the accuracy is 81.0 %\n",
            "for k = 5, the accuracy is 76.5 %\n",
            "for k = 7, the accuracy is 75.0 %\n"
          ]
        },
        {
          "output_type": "stream",
          "name": "stderr",
          "text": [
            "/usr/local/lib/python3.7/dist-packages/sklearn/neighbors/_classification.py:198: DataConversionWarning: A column-vector y was passed when a 1d array was expected. Please change the shape of y to (n_samples,), for example using ravel().\n",
            "  return self._fit(X, y)\n",
            "/usr/local/lib/python3.7/dist-packages/sklearn/neighbors/_classification.py:198: DataConversionWarning: A column-vector y was passed when a 1d array was expected. Please change the shape of y to (n_samples,), for example using ravel().\n",
            "  return self._fit(X, y)\n",
            "/usr/local/lib/python3.7/dist-packages/sklearn/neighbors/_classification.py:198: DataConversionWarning: A column-vector y was passed when a 1d array was expected. Please change the shape of y to (n_samples,), for example using ravel().\n",
            "  return self._fit(X, y)\n",
            "/usr/local/lib/python3.7/dist-packages/sklearn/neighbors/_classification.py:198: DataConversionWarning: A column-vector y was passed when a 1d array was expected. Please change the shape of y to (n_samples,), for example using ravel().\n",
            "  return self._fit(X, y)\n"
          ]
        },
        {
          "output_type": "display_data",
          "data": {
            "text/plain": [
              "<Figure size 432x288 with 1 Axes>"
            ],
            "image/png": "[encoded data removed]"
          },
          "metadata": {
            "needs_background": "light"
          }
        },
        {
          "output_type": "stream",
          "name": "stdout",
          "text": [
            "\n",
            "Max Accuracy for α = 0.8 is 90.0 %\n",
            "---------------------------------------------------------------------\n",
            "\n",
            " 2) α = 0.85\n",
            "\n",
            "for k = 1, the accuracy is 90.0 %\n",
            "for k = 3, the accuracy is 82.5 %\n",
            "for k = 5, the accuracy is 78.5 %\n",
            "for k = 7, the accuracy is 74.5 %\n"
          ]
        },
        {
          "output_type": "stream",
          "name": "stderr",
          "text": [
            "/usr/local/lib/python3.7/dist-packages/sklearn/neighbors/_classification.py:198: DataConversionWarning: A column-vector y was passed when a 1d array was expected. Please change the shape of y to (n_samples,), for example using ravel().\n",
            "  return self._fit(X, y)\n",
            "/usr/local/lib/python3.7/dist-packages/sklearn/neighbors/_classification.py:198: DataConversionWarning: A column-vector y was passed when a 1d array was expected. Please change the shape of y to (n_samples,), for example using ravel().\n",
            "  return self._fit(X, y)\n",
            "/usr/local/lib/python3.7/dist-packages/sklearn/neighbors/_classification.py:198: DataConversionWarning: A column-vector y was passed when a 1d array was expected. Please change the shape of y to (n_samples,), for example using ravel().\n",
            "  return self._fit(X, y)\n",
            "/usr/local/lib/python3.7/dist-packages/sklearn/neighbors/_classification.py:198: DataConversionWarning: A column-vector y was passed when a 1d array was expected. Please change the shape of y to (n_samples,), for example using ravel().\n",
            "  return self._fit(X, y)\n"
          ]
        },
        {
          "output_type": "display_data",
          "data": {
            "text/plain": [
              "<Figure size 432x288 with 1 Axes>"
            ],
            "image/png": "[encoded data removed]"
          },
          "metadata": {
            "needs_background": "light"
          }
        },
        {
          "output_type": "stream",
          "name": "stdout",
          "text": [
            "\n",
            "Max Accuracy for α = 0.85 is 90.0 %\n",
            "---------------------------------------------------------------------\n",
            "\n",
            " 3) α = 0.9\n",
            "\n",
            "for k = 1, the accuracy is 90.5 %\n",
            "for k = 3, the accuracy is 81.5 %\n",
            "for k = 5, the accuracy is 77.0 %\n",
            "for k = 7, the accuracy is 72.5 %\n"
          ]
        },
        {
          "output_type": "stream",
          "name": "stderr",
          "text": [
            "/usr/local/lib/python3.7/dist-packages/sklearn/neighbors/_classification.py:198: DataConversionWarning: A column-vector y was passed when a 1d array was expected. Please change the shape of y to (n_samples,), for example using ravel().\n",
            "  return self._fit(X, y)\n",
            "/usr/local/lib/python3.7/dist-packages/sklearn/neighbors/_classification.py:198: DataConversionWarning: A column-vector y was passed when a 1d array was expected. Please change the shape of y to (n_samples,), for example using ravel().\n",
            "  return self._fit(X, y)\n",
            "/usr/local/lib/python3.7/dist-packages/sklearn/neighbors/_classification.py:198: DataConversionWarning: A column-vector y was passed when a 1d array was expected. Please change the shape of y to (n_samples,), for example using ravel().\n",
            "  return self._fit(X, y)\n",
            "/usr/local/lib/python3.7/dist-packages/sklearn/neighbors/_classification.py:198: DataConversionWarning: A column-vector y was passed when a 1d array was expected. Please change the shape of y to (n_samples,), for example using ravel().\n",
            "  return self._fit(X, y)\n"
          ]
        },
        {
          "output_type": "display_data",
          "data": {
            "text/plain": [
              "<Figure size 432x288 with 1 Axes>"
            ],
            "image/png": "[encoded data removed]"
          },
          "metadata": {
            "needs_background": "light"
          }
        },
        {
          "output_type": "stream",
          "name": "stdout",
          "text": [
            "\n",
            "Max Accuracy for α = 0.9 is 90.5 %\n",
            "---------------------------------------------------------------------\n",
            "\n",
            " 4) α = 0.95\n",
            "\n",
            "for k = 1, the accuracy is 90.0 %\n",
            "for k = 3, the accuracy is 82.5 %\n",
            "for k = 5, the accuracy is 77.0 %\n",
            "for k = 7, the accuracy is 73.0 %\n"
          ]
        },
        {
          "output_type": "stream",
          "name": "stderr",
          "text": [
            "/usr/local/lib/python3.7/dist-packages/sklearn/neighbors/_classification.py:198: DataConversionWarning: A column-vector y was passed when a 1d array was expected. Please change the shape of y to (n_samples,), for example using ravel().\n",
            "  return self._fit(X, y)\n",
            "/usr/local/lib/python3.7/dist-packages/sklearn/neighbors/_classification.py:198: DataConversionWarning: A column-vector y was passed when a 1d array was expected. Please change the shape of y to (n_samples,), for example using ravel().\n",
            "  return self._fit(X, y)\n",
            "/usr/local/lib/python3.7/dist-packages/sklearn/neighbors/_classification.py:198: DataConversionWarning: A column-vector y was passed when a 1d array was expected. Please change the shape of y to (n_samples,), for example using ravel().\n",
            "  return self._fit(X, y)\n",
            "/usr/local/lib/python3.7/dist-packages/sklearn/neighbors/_classification.py:198: DataConversionWarning: A column-vector y was passed when a 1d array was expected. Please change the shape of y to (n_samples,), for example using ravel().\n",
            "  return self._fit(X, y)\n"
          ]
        },
        {
          "output_type": "display_data",
          "data": {
            "text/plain": [
              "<Figure size 432x288 with 1 Axes>"
            ],
            "image/png": "[encoded data removed]"
          },
          "metadata": {
            "needs_background": "light"
          }
        },
        {
          "output_type": "stream",
          "name": "stdout",
          "text": [
            "\n",
            "Max Accuracy for α = 0.95 is 90.0 %\n",
            "---------------------------------------------------------------------\n",
            "\n",
            "Highest Accuracy (94.5%) was at α = 0.9  and  k = 1.\n",
            "\n"
          ]
        },
        {
          "output_type": "display_data",
          "data": {
            "text/plain": [
              "<Figure size 504x504 with 1 Axes>"
            ],
            "image/png": "[encoded data removed]"
          },
          "metadata": {
            "needs_background": "light"
          }
        }
      ],
      "source": [
        "PCA(D_train, y_train, D_test, y_test)"
      ]
    },
    {
      "cell_type": "markdown",
      "metadata": {
        "id": "YmPgvPIlSYMX"
      },
      "source": [
        "\n",
        "\n",
        "---"
      ]
    },
    {
      "cell_type": "markdown",
      "metadata": {
        "id": "iIshqv8sql1-"
      },
      "source": [
        "5. Classification using LDA."
      ]
    },
    {
      "cell_type": "code",
      "execution_count": 53,
      "metadata": {
        "id": "1EWEvowAOJRT",
        "colab": {
          "base_uri": "https://localhost:8080/"
        },
        "outputId": "4d8128f7-f23f-4fdb-de48-a6f814242715"
      },
      "outputs": [
        {
          "output_type": "stream",
          "name": "stdout",
          "text": [
            "[[ 29906.39982891  28807.00040458  27510.80084048 ...   4458.99997807\n",
            "     616.40023661   3815.60044074]\n",
            " [ 28807.00040458  30400.79989934  28710.19878571 ...   3271.79997267\n",
            "    -460.40026903   2669.8000226 ]\n",
            " [ 27510.80084048  28710.19878571  29700.00019842 ...   3863.79914406\n",
            "     611.19996905   4078.79976678]\n",
            " ...\n",
            " [  4458.99997807   3271.79997267   3863.79914406 ... 102697.6017642\n",
            "   69724.40156567  58866.19953752]\n",
            " [   616.40023661   -460.40026903    611.19996905 ...  69724.40156567\n",
            "   84417.59961414  76252.79940557]\n",
            " [  3815.60044074   2669.8000226    4078.79976678 ...  58866.19953752\n",
            "   76252.79940557  97521.9987421 ]]\n"
          ]
        }
      ],
      "source": [
        "# classified_D = []   # class specific subsets\n",
        "# m = 40   # number of subjects\n",
        "# nk = 5   # number of training samples per subject\n",
        "# Sb = np.zeros((D_train.shape[1], D_train.shape[1]))   # between-class scatter matrix\n",
        "# S = np.zeros((D_train.shape[1], D_train.shape[1]))    # within-class scatter matrix\n",
        "# overall_smean = np.mean(D_train, axis=0).reshape(-1, 1)\n",
        "# Z_i = np.zeros((40,5, D_train.shape[1]) ,dtype=np.float32)   #for now, its supposed to be = np.mean(D_train, axis = 0).reshape \n",
        "# # msh lazem reshape fel overall mean it gives the same answer \n",
        "\n",
        "# # accessing every 5 training samples for the 40 subjects\n",
        "# for i in range(0, 200, 5):   \n",
        "#   classified_D.append(D_train[i : i + 5])\n",
        "\n",
        "# sample_mean = np.zeros((40, D_train.shape[1]),  dtype=np.float32)\n",
        "# for i in range(0, 40):\n",
        "#   sample_mean[i] = np.mean(classified_D[i], axis=0)\n",
        "\n",
        "# class_mean = np.mean(classified_D, axis = 1)  \n",
        "\n",
        "# for i in range(m):\n",
        "#   diff = sample_mean[i].reshape(-1,1) - overall_smean\n",
        "#   Sb += nk * np.dot((diff),(np.transpose(diff)))\n",
        "\n",
        "# for i in range(0,40):\n",
        "#   Z_i[i] =  np.subtract(classified_D[i], sample_mean[i])\n",
        "# # calculating within-class scatter matrix\n",
        "# for i in range(0,40):\n",
        "#   # centering class\n",
        "#   S += np.dot(np.transpose(Z_i[i]), Z_i[i])\n",
        "\n",
        "# print(S)\n",
        "\n",
        "# v, eigenvectors = np.linalg.eigh(np.dot(np.linalg.inv(S), Sb))\n",
        "# eigenvectors = eigenvectors.T[::-1]\n",
        "# u_reduced = eigenvectors[:39]\n",
        "# D_new_train = np.dot(D_train, u_reduced.T)\n",
        "# D_new_test = np.dot(D_test, u_reduced.T)\n"
      ]
    },
    {
      "cell_type": "code",
      "source": [
        "# v, eigenvectors = np.linalg.eigh(np.dot(np.linalg.inv(S), Sb))\n",
        "# eigenvectors = eigenvectors.T[::-1]\n",
        "# u_reduced = eigenvectors[:39]\n",
        "# D_new_train = np.dot(D_train, u_reduced.T)\n",
        "# D_new_test = np.dot(D_test, u_reduced.T)"
      ],
      "metadata": {
        "id": "xA0K0nlr_1uw"
      },
      "execution_count": 54,
      "outputs": []
    },
    {
      "cell_type": "code",
      "execution_count": 62,
      "metadata": {
        "colab": {
          "base_uri": "https://localhost:8080/"
        },
        "id": "aRhhpYk0SZRt",
        "outputId": "11e412c0-a33b-4319-d3cf-0f463de2bd85"
      },
      "outputs": [
        {
          "output_type": "stream",
          "name": "stdout",
          "text": [
            "[[ 28496.8  27128.2  27372.4 ...  -3977.2  -3511.6    539. ]\n",
            " [ 27128.2  28448.8  27518.6 ...  -2697.2  -2349.2   1781.6]\n",
            " [ 27372.4  27518.6  28698.4 ...  -3472.2   -923.2   3416.2]\n",
            " ...\n",
            " [ -3977.2  -2697.2  -3472.2 ... 140034.   83425.8  64222.2]\n",
            " [ -3511.6  -2349.2   -923.2 ...  83425.8  99585.6  82754.4]\n",
            " [   539.    1781.6   3416.2 ...  64222.2  82754.4 104148.8]]\n"
          ]
        }
      ],
      "source": [
        "classified_D = []   # class specific subsets\n",
        "m = 40   # number of subjects\n",
        "nk = 5   # number of training samples per subject\n",
        "Sb = np.zeros((D_train.shape[1], D_train.shape[1]))   # between-class scatter matrix\n",
        "S = np.zeros((D_train.shape[1], D_train.shape[1]))    # within-class scatter matrix\n",
        "overall_smean = np.mean(D_train, axis=0).reshape(-1, 1)  #for now, its supposed to be = np.mean(D_train, axis = 0).reshape \n",
        "# msh lazem reshape fel overall mean it gives the same answer\n",
        "\n",
        "# accessing every 5 training samples for the 40 subjects\n",
        "for i in range(0, 200, 5):   \n",
        "  classified_D.append(D_train[i : i + 5])\n",
        "\n",
        "# calculating mean vector for every class\n",
        "class_mean = np.mean(classified_D, axis = 1)   \n",
        "\n",
        "# calculating between-class scatter matrix\n",
        "for i in range(m):\n",
        "  diff = class_mean[i].reshape(-1,1) - overall_smean\n",
        "  Sb += nk * np.dot((diff),(np.transpose(diff)))\n",
        "\n",
        "# calculating within-class scatter matrix\n",
        "for i in range(m):\n",
        "  Z_i = classified_D[i] - class_mean[i]    # centering class\n",
        "  S += np.dot(np.transpose(Z_i), Z_i)\n",
        "\n",
        "print(S)\n",
        "_, eigenvectors = np.linalg.eigh(np.dot(np.linalg.inv(S), Sb))\n",
        "eigenvectors = eigenvectors.T[::-1]\n",
        "u_reduced = eigenvectors[:39]# orders the eigen vectors abd use 39 dominant eigen vectors\n",
        "D_new_train = np.dot(D_train, u_reduced.T)\n",
        "D_new_test = np.dot(D_test, u_reduced.T) # projecting the data onto the new reduced dimensions\n",
        "\n"
      ]
    },
    {
      "cell_type": "code",
      "execution_count": 63,
      "metadata": {
        "colab": {
          "base_uri": "https://localhost:8080/",
          "height": 383
        },
        "id": "r_SaoUzwTCTJ",
        "outputId": "bf8c3592-8980-4c25-ed7d-581f05780ea7"
      },
      "outputs": [
        {
          "output_type": "stream",
          "name": "stdout",
          "text": [
            "for k = 1, the accuracy is 94.5 %\n",
            "for k = 3, the accuracy is 87.0 %\n",
            "for k = 5, the accuracy is 84.0 %\n",
            "for k = 7, the accuracy is 79.0 %\n",
            "\n",
            "Highest Accuracy = 94.5 %\n"
          ]
        },
        {
          "output_type": "display_data",
          "data": {
            "text/plain": [
              "<Figure size 432x288 with 1 Axes>"
            ],
            "image/png": "[encoded data removed]"
          },
          "metadata": {
            "needs_background": "light"
          }
        }
      ],
      "source": [
        "# this is repeated code should be taken out into a knn fn\n",
        "accuracies_LDA = []    \n",
        "k_neighbors = [1,3,5,7] # choosing K values with an odd number to avoid a tie\n",
        "\n",
        "for k in k_neighbors: \n",
        "  accuracy = KNN(D_new_train,D_new_test,y_train,y_test,k)\n",
        "  accuracies_LDA.append(accuracy)\n",
        "  print(f\"for k = {k}, the accuracy is {accuracy * 100} %\")  \n",
        " \n",
        "print(f\"\\nHighest Accuracy = {max(accuracies_LDA)*100} %\")  \n",
        "plt.xlabel('K')\n",
        "plt.ylabel('Accuracy ')\n",
        "plt.plot(k_neighbors, accuracies_LDA)\n",
        "plt.show()\n",
        "\n",
        "#LDA code should be extracted to a function (if not then remove PCA function)"
      ]
    }
  ],
  "metadata": {
    "colab": {
      "collapsed_sections": [],
      "provenance": []
    },
    "kernelspec": {
      "display_name": "Python 3",
      "name": "python3"
    },
    "language_info": {
      "name": "python"
    }
  },
  "nbformat": 4,
  "nbformat_minor": 0
}